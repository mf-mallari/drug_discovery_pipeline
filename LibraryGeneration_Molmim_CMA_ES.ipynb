{
  "cells": [
    {
      "cell_type": "markdown",
      "metadata": {
        "id": "37GTnpBZJrT4"
      },
      "source": [
        "# Set Up Environment\n",
        "\n"
      ]
    },
    {
      "cell_type": "code",
      "execution_count": 25,
      "metadata": {
        "colab": {
          "base_uri": "https://localhost:8080/"
        },
        "id": "hz0aUeRgHgqn",
        "outputId": "2f2bcda8-b2e6-4082-ce06-008f622ee179"
      },
      "outputs": [
        {
          "name": "stdout",
          "output_type": "stream",
          "text": [
            "Requirement already satisfied: rdkit in /opt/anaconda3/lib/python3.9/site-packages (2023.9.6)\n",
            "Requirement already satisfied: python-dotenv in /opt/anaconda3/lib/python3.9/site-packages (0.21.0)\n",
            "Requirement already satisfied: pandas in /opt/anaconda3/lib/python3.9/site-packages (2.2.3)\n",
            "Requirement already satisfied: numpy in /opt/anaconda3/lib/python3.9/site-packages (1.26.4)\n",
            "Requirement already satisfied: matplotlib in /opt/anaconda3/lib/python3.9/site-packages (3.9.3)\n",
            "Requirement already satisfied: loguru in /opt/anaconda3/lib/python3.9/site-packages (0.7.3)\n",
            "Requirement already satisfied: py3dmol in /opt/anaconda3/lib/python3.9/site-packages (2.4.0)\n",
            "Requirement already satisfied: Pillow in /opt/anaconda3/lib/python3.9/site-packages (from rdkit) (11.0.0)\n",
            "Requirement already satisfied: python-dateutil>=2.8.2 in /opt/anaconda3/lib/python3.9/site-packages (from pandas) (2.9.0.post0)\n",
            "Requirement already satisfied: pytz>=2020.1 in /opt/anaconda3/lib/python3.9/site-packages (from pandas) (2024.2)\n",
            "Requirement already satisfied: tzdata>=2022.7 in /opt/anaconda3/lib/python3.9/site-packages (from pandas) (2024.2)\n",
            "Requirement already satisfied: contourpy>=1.0.1 in /opt/anaconda3/lib/python3.9/site-packages (from matplotlib) (1.3.0)\n",
            "Requirement already satisfied: cycler>=0.10 in /opt/anaconda3/lib/python3.9/site-packages (from matplotlib) (0.12.1)\n",
            "Requirement already satisfied: fonttools>=4.22.0 in /opt/anaconda3/lib/python3.9/site-packages (from matplotlib) (4.55.3)\n",
            "Requirement already satisfied: kiwisolver>=1.3.1 in /opt/anaconda3/lib/python3.9/site-packages (from matplotlib) (1.4.7)\n",
            "Requirement already satisfied: packaging>=20.0 in /opt/anaconda3/lib/python3.9/site-packages (from matplotlib) (24.1)\n",
            "Requirement already satisfied: pyparsing>=2.3.1 in /opt/anaconda3/lib/python3.9/site-packages (from matplotlib) (3.2.0)\n",
            "Requirement already satisfied: importlib-resources>=3.2.0 in /opt/anaconda3/lib/python3.9/site-packages (from matplotlib) (6.4.5)\n",
            "Requirement already satisfied: zipp>=3.1.0 in /opt/anaconda3/lib/python3.9/site-packages (from importlib-resources>=3.2.0->matplotlib) (3.21.0)\n",
            "Requirement already satisfied: six>=1.5 in /opt/anaconda3/lib/python3.9/site-packages (from python-dateutil>=2.8.2->pandas) (1.16.0)\n"
          ]
        }
      ],
      "source": [
        "!pip install rdkit python-dotenv pandas numpy matplotlib loguru py3dmol"
      ]
    },
    {
      "cell_type": "code",
      "execution_count": 1,
      "metadata": {
        "id": "8J3LNpj7JnOi"
      },
      "outputs": [],
      "source": [
        "import os\n",
        "import pickle\n",
        "from typing import List\n",
        "import numpy as np\n",
        "import pandas as pd\n",
        "import matplotlib.pyplot as plt\n",
        "import ast\n",
        "import requests\n",
        "\n",
        "from dotenv import load_dotenv\n",
        "\n",
        "from rdkit import Chem\n",
        "from rdkit.Chem.QED import qed as rdkit_qed\n",
        "from rdkit.Chem.QED import qed\n",
        "from rdkit.Chem import AllChem\n",
        "from rdkit.Chem.AllChem import GetMorganFingerprintAsBitVect\n",
        "from rdkit.DataStructs import TanimotoSimilarity\n",
        "from rdkit.Chem import Descriptors\n",
        "\n",
        "from IPython.display import display, clear_output"
      ]
    },
    {
      "cell_type": "markdown",
      "metadata": {
        "id": "B-qsGGhnJT6S"
      },
      "source": [
        "API Key and URL"
      ]
    },
    {
      "cell_type": "code",
      "execution_count": 2,
      "metadata": {
        "id": "_G2DWHiDHGmO"
      },
      "outputs": [
        {
          "name": "stdout",
          "output_type": "stream",
          "text": [
            "NVIDIA API Key loaded successfully.\n"
          ]
        }
      ],
      "source": [
        "# --- Load environment variables from .env file ---\n",
        "load_dotenv()\n",
        "\n",
        "# --- Access your API key ---\n",
        "API_KEY = os.getenv(\"API_KEY\")\n",
        "\n",
        "if API_KEY:\n",
        "    print(\"NVIDIA API Key loaded successfully.\")\n",
        "else:\n",
        "    print(\"NVIDIA API Key not found. Make sure it's set in your .env file or as a system environment variable.\")\n",
        "    raise ValueError(\"API_KEY is not set. Please create a .env file with your API_KEY.\")\n",
        "\n",
        "# --- API Setup ---\n",
        "invoke_url = \"https://health.api.nvidia.com/v1/biology/nvidia/molmim/generate\"\n",
        "headers = {\n",
        "    \"Authorization\": f\"Bearer {API_KEY}\",\n",
        "    \"Accept\": \"application/json\",\n",
        "}\n",
        "session = requests.Session()"
      ]
    },
    {
      "cell_type": "markdown",
      "metadata": {
        "id": "dLnRNwaGK6lB"
      },
      "source": [
        "# Starting Molecule"
      ]
    },
    {
      "cell_type": "code",
      "execution_count": 13,
      "metadata": {
        "colab": {
          "base_uri": "https://localhost:8080/",
          "height": 184
        },
        "id": "EWZQK7szK2nj",
        "outputId": "2b3602fb-33e7-4411-8804-5d16608c9582"
      },
      "outputs": [
        {
          "name": "stdout",
          "output_type": "stream",
          "text": [
            "Original QED: 0.7638626046471743\n"
          ]
        },
        {
          "data": {
            "image/png": "[encoded data removed]",
            "text/plain": [
              "<rdkit.Chem.rdchem.Mol at 0x3041ac0b0>"
            ]
          },
          "execution_count": 13,
          "metadata": {},
          "output_type": "execute_result"
        }
      ],
      "source": [
        "# Input SMILE string\n",
        "smis = \"C1C2=C(C=CC(=C2[C@@H](C1(F)F)O)S(=O)(=O)C(F)F)OC3=CC(=CC(=C3)C#N)F\"\n",
        "\n",
        "mol = Chem.MolFromSmiles(smis)\n",
        "qed_score = rdkit_qed(mol)\n",
        "print(f\"Original QED: {qed_score}\")\n",
        "mol"
      ]
    },
    {
      "cell_type": "markdown",
      "metadata": {
        "id": "pyHpKv48Ly0h"
      },
      "source": [
        "## CMA-ES Optimization"
      ]
    },
    {
      "cell_type": "code",
      "execution_count": 14,
      "metadata": {
        "id": "pOFucthtLxhL"
      },
      "outputs": [],
      "source": [
        "# Create a dictionary to store the results\n",
        "results = {}\n",
        "\n",
        "# Create a list of minimum similarities\n",
        "num_min_sims = 3\n",
        "min_sims = np.linspace(0.1, 0.7, num_min_sims)"
      ]
    },
    {
      "cell_type": "code",
      "execution_count": 15,
      "metadata": {
        "id": "EFn1AgqOL8NQ"
      },
      "outputs": [],
      "source": [
        "def tanimoto_similarity(smiles, reference: str):\n",
        "    # Get fingerprint params\n",
        "    fingerprint_radius_param = 2\n",
        "    fingerprint_nbits = 2048\n",
        "\n",
        "    # Handle the reference molecule\n",
        "    reference_mol = Chem.MolFromSmiles(reference)\n",
        "    reference_fingerprint = GetMorganFingerprintAsBitVect(\n",
        "        reference_mol, radius=fingerprint_radius_param, nBits=fingerprint_nbits\n",
        "    )\n",
        "\n",
        "    # Validate the other molecule\n",
        "    mol = Chem.MolFromSmiles(smiles)\n",
        "    if mol is None:\n",
        "        return 0\n",
        "\n",
        "    fingerprint = GetMorganFingerprintAsBitVect(mol, radius=fingerprint_radius_param, nBits=fingerprint_nbits)\n",
        "\n",
        "    # Calculate and return the Tanimoto similarity\n",
        "    return TanimotoSimilarity(fingerprint, reference_fingerprint)"
      ]
    },
    {
      "cell_type": "code",
      "execution_count": 16,
      "metadata": {
        "colab": {
          "base_uri": "https://localhost:8080/"
        },
        "id": "oohHEcP0IrH1",
        "outputId": "68b97951-e37a-4645-ed46-afda254d3b10"
      },
      "outputs": [
        {
          "name": "stdout",
          "output_type": "stream",
          "text": [
            "*************** min_sim: 0.1 ********************\n",
            "response_json: \n",
            "{'molecules': '[{\"sample\": \"CC1=CC(c2cccc3c2CCCC3)=C(C#N)[C@H]1C(=O)O\", \"score\": 0.9008290538861267}, {\"sample\": \"O=C(NS(=O)(=O)C[C@@H]1CCOC1)c1cc(=O)cc2ccccc2c1\", \"score\": 0.900244244253867}, {\"sample\": \"CCOC(=O)C1=C(C#N)C(=O)c2ccccc2N[C@@H]1C(F)(F)F\", \"score\": 0.8460616211245658}, {\"sample\": \"C[C@@H]1C=CC=c2c(=CC(=O)C3=CC=C(C(F)(F)F)OC3)ccn21\", \"score\": 0.835739133105219}, {\"sample\": \"C=C1C=CC(=O)C=C1NC(=O)C1=C(C)OC2=C(C1)O[C@@H](C(F)(F)F)C2\", \"score\": 0.8290652751798779}, {\"sample\": \"CCOC(=O)c1cc2ccccc2c(C#N)c1C(F)(F)F\", \"score\": 0.7887797731144391}, {\"sample\": \"CC1=C(C(=O)OCC2=Cc3cc(=O)cccc3CC2(F)F)CC(=O)O1\", \"score\": 0.7847202815241617}, {\"sample\": \"CS(=O)(=O)N=C1C=C[C@H]2C(=O)C=C(C(=O)OCC(F)(F)F)C=C12\", \"score\": 0.7123110836567903}, {\"sample\": \"C=C1C2=C(CC=CC=C2)C(=O)N1C1=CC(=O)[C@H](C(F)(F)F)C(F)(F)C1\", \"score\": 0.6692415257949059}, {\"sample\": \"O=C(C1C=CC=CC=C1C(F)(F)F)N1CC2(CCN(C(=O)[C@@H]3CC3(F)F)CC2)C1\", \"score\": 0.6484056472809455}]', 'score_type': 'QED'}\n",
            "gen_smiles_list: \n",
            "['CC1=CC(c2cccc3c2CCCC3)=C(C#N)[C@H]1C(=O)O', 'O=C(NS(=O)(=O)C[C@@H]1CCOC1)c1cc(=O)cc2ccccc2c1', 'CCOC(=O)C1=C(C#N)C(=O)c2ccccc2N[C@@H]1C(F)(F)F', 'C[C@@H]1C=CC=c2c(=CC(=O)C3=CC=C(C(F)(F)F)OC3)ccn21', 'C=C1C=CC(=O)C=C1NC(=O)C1=C(C)OC2=C(C1)O[C@@H](C(F)(F)F)C2', 'CCOC(=O)c1cc2ccccc2c(C#N)c1C(F)(F)F', 'CC1=C(C(=O)OCC2=Cc3cc(=O)cccc3CC2(F)F)CC(=O)O1', 'CS(=O)(=O)N=C1C=C[C@H]2C(=O)C=C(C(=O)OCC(F)(F)F)C=C12', 'C=C1C2=C(CC=CC=C2)C(=O)N1C1=CC(=O)[C@H](C(F)(F)F)C(F)(F)C1', 'O=C(C1C=CC=CC=C1C(F)(F)F)N1CC2(CCN(C(=O)[C@@H]3CC3(F)F)CC2)C1']\n",
            "canonical_smiles_list: \n",
            "['CC1=CC(c2cccc3c2CCCC3)=C(C#N)[C@H]1C(=O)O', 'C=C1C=CC(=O)C=C1NC(=O)C1=C(C)OC2=C(C1)O[C@@H](C(F)(F)F)C2', 'CC1=C(C(=O)OCC2=Cc3cc(=O)cccc3CC2(F)F)CC(=O)O1', 'CCOC(=O)C1=C(C#N)C(=O)c2ccccc2N[C@@H]1C(F)(F)F', 'CCOC(=O)c1cc2ccccc2c(C#N)c1C(F)(F)F', 'O=C(NS(=O)(=O)C[C@@H]1CCOC1)c1cc(=O)cc2ccccc2c1', 'CS(=O)(=O)N=C1C=C[C@H]2C(=O)C=C(C(=O)OCC(F)(F)F)C=C12', 'C=C1C2=C(CC=CC=C2)C(=O)N1C1=CC(=O)[C@H](C(F)(F)F)C(F)(F)C1', 'C[C@@H]1C=CC=c2c(=CC(=O)C3=CC=C(C(F)(F)F)OC3)ccn21', 'O=C(C1C=CC=CC=C1C(F)(F)F)N1CC2(CCN(C(=O)[C@@H]3CC3(F)F)CC2)C1']\n",
            "*************** min_sim: 0.4 ********************\n",
            "response_json: \n",
            "{'molecules': '[{\"sample\": \"O=C1C2=C(C=C(c3ccccc3)CC2)[C@H](C(F)(F)F)CN1C[C@H]1CCCO1\", \"score\": 0.7833704009001071}, {\"sample\": \"N#Cc1c(N2CCC3(CC2)C[C@@H]3C(F)(F)F)sc2ccccc2c1=O\", \"score\": 0.7577083707374306}, {\"sample\": \"Cc1cc2cccc(=O)c-2c2c(c1)SC[C@@H](C(F)(F)F)N(C1CC1)C2=O\", \"score\": 0.7486748222082846}, {\"sample\": \"N#Cc1cccc2c1C=CC(=c1c#cc(=C3CCCCC3)cc1)C2=O\", \"score\": 0.7459747725860616}, {\"sample\": \"N#CC1=CN(C[C@H](O)C(F)(F)F)S(=O)(=O)Nc2cc(C(F)(F)F)ccc21\", \"score\": 0.7449867537731012}, {\"sample\": \"CC(C)(C)C1=C(C#N)C(=O)c2c(C#N)cccc2C1=O\", \"score\": 0.7210111192625945}, {\"sample\": \"COC(=O)C1=CC2(CCC(C(=O)N=S3(=O)CCCC3)CC2)N[C@H]1C(F)(F)F\", \"score\": 0.7092754919772833}, {\"sample\": \"O=c1cccc2c(c1)C=C1C=CC=C1[C@H](C(F)(F)F)N1CCS(=O)(=O)C[C@H]21\", \"score\": 0.6778661394367136}, {\"sample\": \"O=C1C=C(CN2CCC3(CC2)CCS(=O)(=O)CC3)C(=O)C(C(F)(F)F)=C1\", \"score\": 0.6720958918660089}, {\"sample\": \"N#CC1=CC=C(F)CC1=CC1=CC=CC1=C1O[C@H](C(F)(F)F)NC1=O\", \"score\": 0.5823475552270753}]', 'score_type': 'QED'}\n",
            "gen_smiles_list: \n",
            "['O=C1C2=C(C=C(c3ccccc3)CC2)[C@H](C(F)(F)F)CN1C[C@H]1CCCO1', 'N#Cc1c(N2CCC3(CC2)C[C@@H]3C(F)(F)F)sc2ccccc2c1=O', 'Cc1cc2cccc(=O)c-2c2c(c1)SC[C@@H](C(F)(F)F)N(C1CC1)C2=O', 'N#Cc1cccc2c1C=CC(=c1c#cc(=C3CCCCC3)cc1)C2=O', 'N#CC1=CN(C[C@H](O)C(F)(F)F)S(=O)(=O)Nc2cc(C(F)(F)F)ccc21', 'CC(C)(C)C1=C(C#N)C(=O)c2c(C#N)cccc2C1=O', 'COC(=O)C1=CC2(CCC(C(=O)N=S3(=O)CCCC3)CC2)N[C@H]1C(F)(F)F', 'O=c1cccc2c(c1)C=C1C=CC=C1[C@H](C(F)(F)F)N1CCS(=O)(=O)C[C@H]21', 'O=C1C=C(CN2CCC3(CC2)CCS(=O)(=O)CC3)C(=O)C(C(F)(F)F)=C1', 'N#CC1=CC=C(F)CC1=CC1=CC=CC1=C1O[C@H](C(F)(F)F)NC1=O']\n",
            "canonical_smiles_list: \n",
            "['O=C1C=C(CN2CCC3(CC2)CCS(=O)(=O)CC3)C(=O)C(C(F)(F)F)=C1', 'N#Cc1c(N2CCC3(CC2)C[C@@H]3C(F)(F)F)sc2ccccc2c1=O', 'N#CC1=CC=C(F)CC1=CC1=CC=CC1=C1O[C@H](C(F)(F)F)NC1=O', 'Cc1cc2cccc(=O)c-2c2c(c1)SC[C@@H](C(F)(F)F)N(C1CC1)C2=O', 'N#CC1=CN(C[C@H](O)C(F)(F)F)S(=O)(=O)Nc2cc(C(F)(F)F)ccc21', 'COC(=O)C1=CC2(CCC(C(=O)N=S3(=O)CCCC3)CC2)N[C@H]1C(F)(F)F', 'O=c1cccc2c(c1)C=C1C=CC=C1[C@H](C(F)(F)F)N1CCS(=O)(=O)C[C@H]21', 'CC(C)(C)C1=C(C#N)C(=O)c2c(C#N)cccc2C1=O', 'N#Cc1cccc2c1C=CC(=c1c#cc(=C3CCCCC3)cc1)C2=O', 'O=C1C2=C(C=C(c3ccccc3)CC2)[C@H](C(F)(F)F)CN1C[C@H]1CCCO1']\n",
            "*************** min_sim: 0.7 ********************\n",
            "response_json: \n",
            "{'molecules': '[{\"sample\": \"CS(=O)(=O)C1=Cc2cc3c(cc2=C1)[C@H](C(F)(F)F)C=CC=3\", \"score\": 0.7931415442359178}, {\"sample\": \"C=CCN1C(C)=C(C(=O)C2=CC3=CC=C[C@H](C(F)(F)F)C3=C2)S1(=O)=O\", \"score\": 0.7156011450682714}, {\"sample\": \"N#CC(=c1ccc(=C2C3=C(CCC3)CC[C@H]2C(F)(F)F)cc1)C(F)(F)F\", \"score\": 0.6151445055214702}, {\"sample\": \"C#CCCCS(=O)(=O)N1CCc2ccc(=O)c(C(F)(F)F)cc2CC1\", \"score\": 0.6007120747828941}, {\"sample\": \"N#CC1=CC=C[C@H]2C1=C(C#N)[C@@H](c1ccc(S(=O)(=O)O)cc1)C(F)(F)C2(F)F\", \"score\": 0.5909241535136804}, {\"sample\": \"N#CC1(C(=O)OCC2=CC[C@H]3C(=O)N(CC(F)(F)F)C(=O)C3=C2)CCCC1\", \"score\": 0.5504764306588066}, {\"sample\": \"CC(C)(C)OS(=O)(=O)N1C(=c2c(F)cn3c(=O)c(F)c(F)cc23)C=C(F)[C@@H]1F\", \"score\": 0.5470124356098373}, {\"sample\": \"O=S(=O)(C1=CC2(C=C1)[C@@H](C(F)(F)F)C2(F)F)C1CCCCCC1\", \"score\": 0.5431342934556919}, {\"sample\": \"O=C(O)[C@@H]1C(=C2C=CC=C2)C=CC12CC(C(F)(F)F)=C(C(F)(F)F)C2\", \"score\": 0.533205655653227}, {\"sample\": \"Cn1cc([C@@H]2OC(=O)C(C(=O)N3CCC4(CC=CS4(=O)=O)CC3)=C2C(F)(F)F)cn1\", \"score\": 0.5063782447612127}]', 'score_type': 'QED'}\n",
            "gen_smiles_list: \n",
            "['CS(=O)(=O)C1=Cc2cc3c(cc2=C1)[C@H](C(F)(F)F)C=CC=3', 'C=CCN1C(C)=C(C(=O)C2=CC3=CC=C[C@H](C(F)(F)F)C3=C2)S1(=O)=O', 'N#CC(=c1ccc(=C2C3=C(CCC3)CC[C@H]2C(F)(F)F)cc1)C(F)(F)F', 'C#CCCCS(=O)(=O)N1CCc2ccc(=O)c(C(F)(F)F)cc2CC1', 'N#CC1=CC=C[C@H]2C1=C(C#N)[C@@H](c1ccc(S(=O)(=O)O)cc1)C(F)(F)C2(F)F', 'N#CC1(C(=O)OCC2=CC[C@H]3C(=O)N(CC(F)(F)F)C(=O)C3=C2)CCCC1', 'CC(C)(C)OS(=O)(=O)N1C(=c2c(F)cn3c(=O)c(F)c(F)cc23)C=C(F)[C@@H]1F', 'O=S(=O)(C1=CC2(C=C1)[C@@H](C(F)(F)F)C2(F)F)C1CCCCCC1', 'O=C(O)[C@@H]1C(=C2C=CC=C2)C=CC12CC(C(F)(F)F)=C(C(F)(F)F)C2', 'Cn1cc([C@@H]2OC(=O)C(C(=O)N3CCC4(CC=CS4(=O)=O)CC3)=C2C(F)(F)F)cn1']\n",
            "canonical_smiles_list: \n",
            "['Cn1cc([C@@H]2OC(=O)C(C(=O)N3CCC4(CC=CS4(=O)=O)CC3)=C2C(F)(F)F)cn1', 'N#CC1(C(=O)OCC2=CC[C@H]3C(=O)N(CC(F)(F)F)C(=O)C3=C2)CCCC1', 'CS(=O)(=O)C1=Cc2cc3c(cc2=C1)[C@H](C(F)(F)F)C=CC=3', 'CC(C)(C)OS(=O)(=O)N1C(=c2c(F)cn3c(=O)c(F)c(F)cc23)C=C(F)[C@@H]1F', 'O=S(=O)(C1=CC2(C=C1)[C@@H](C(F)(F)F)C2(F)F)C1CCCCCC1', 'N#CC(=c1ccc(=C2C3=C(CCC3)CC[C@H]2C(F)(F)F)cc1)C(F)(F)F', 'O=C(O)[C@@H]1C(=C2C=CC=C2)C=CC12CC(C(F)(F)F)=C(C(F)(F)F)C2', 'C=CCN1C(C)=C(C(=O)C2=CC3=CC=C[C@H](C(F)(F)F)C3=C2)S1(=O)=O', 'C#CCCCS(=O)(=O)N1CCc2ccc(=O)c(C(F)(F)F)cc2CC1', 'N#CC1=CC=C[C@H]2C1=C(C#N)[C@@H](c1ccc(S(=O)(=O)O)cc1)C(F)(F)C2(F)F']\n"
          ]
        }
      ],
      "source": [
        "# Loop through each minimum similarity value\n",
        "for min_sim in min_sims:\n",
        "    # Create a dictionary to store the results for this min_sim\n",
        "    min_sim_results = {'smiles': [], 'num_smiles': [], 'tanimoto_similarity': [], 'qed_score': []}\n",
        "\n",
        "    # Create the request payload\n",
        "    payload = {\n",
        "      \"smi\": smis,\n",
        "      \"algorithm\": \"CMA-ES\",\n",
        "      \"num_molecules\": 10,\n",
        "      \"property_name\": \"QED\",\n",
        "      \"minimize\": False,\n",
        "      \"min_similarity\": min_sim,\n",
        "      \"particles\": 20,\n",
        "      \"iterations\": 2,\n",
        "      \"scaled_radius\": 1\n",
        "    }\n",
        "\n",
        "    # Send the request and get the response\n",
        "    response = session.post(invoke_url, headers=headers, json=payload)\n",
        "    response.raise_for_status()\n",
        "    response_json = response.json()\n",
        "    print(f\"*************** min_sim: {min_sim} ********************\")\n",
        "    print(f\"response_json: \\n\"\n",
        "          f\"{response_json}\")\n",
        "\n",
        "    # Extract the generated SMILES\n",
        "    gen_smiles_list = [i['sample'] for i in ast.literal_eval(response_json['molecules'])]\n",
        "    print(f\"gen_smiles_list: \\n\"\n",
        "          f\"{gen_smiles_list}\")\n",
        "    \n",
        "    # Get the molecule objects out of valid SMILES\n",
        "    valid_mol_list = [mol for smiles in gen_smiles_list if (mol := Chem.MolFromSmiles(smiles))]\n",
        "    \n",
        "    # Convert to canonical SMILES & deduplicate\n",
        "    canonical_smiles = set()\n",
        "    for mol in valid_mol_list:\n",
        "        canonical_smi = Chem.MolToSmiles(mol, canonical=True)\n",
        "        canonical_smiles.add(canonical_smi)\n",
        "    canonical_smiles_list = list(canonical_smiles)\n",
        "    print(f\"canonical_smiles_list: \\n\"\n",
        "          f\"{canonical_smiles_list}\")\n",
        "\n",
        "    # Calculate Tanimoto similarity and QED score for each valid SMILES\n",
        "    for smiles in canonical_smiles_list:\n",
        "        tanimoto = tanimoto_similarity(smiles, smis)\n",
        "        mol = Chem.MolFromSmiles(smiles)\n",
        "        qed_score = qed(mol)\n",
        "        min_sim_results['tanimoto_similarity'].append(tanimoto)\n",
        "        min_sim_results['qed_score'].append(qed_score)\n",
        "\n",
        "    # Update min_sim_results - get the average of Tanimoto and QED scores, store generated SMILES\n",
        "    min_sim_results['tanimoto_similarity'] = np.mean(min_sim_results['tanimoto_similarity'])\n",
        "    min_sim_results['qed_score'] = np.mean(min_sim_results['qed_score'])\n",
        "    min_sim_results['num_smiles'] = len(canonical_smiles_list)\n",
        "    min_sim_results['smiles'] = canonical_smiles_list\n",
        "\n",
        "    # Store the results for this min_sim\n",
        "    results[min_sim] = min_sim_results"
      ]
    },
    {
      "cell_type": "code",
      "execution_count": 17,
      "metadata": {
        "id": "1NvjYVOkwoar"
      },
      "outputs": [],
      "source": [
        "def physical_properties(smiles):\n",
        "    mol = Chem.MolFromSmiles(smiles)\n",
        "    if mol is None:\n",
        "        return None  # invalid SMILES\n",
        "\n",
        "    # Calculate physical properties\n",
        "    mw = Descriptors.MolWt(mol)\n",
        "    logp = Descriptors.MolLogP(mol)\n",
        "    hba = Descriptors.NumHAcceptors(mol)\n",
        "    hbd = Descriptors.NumHDonors(mol)\n",
        "    tpsa = Descriptors.TPSA(mol)\n",
        "    rotatable_bonds = Descriptors.NumRotatableBonds(mol)\n",
        "\n",
        "    return mw, logp, hba, hbd, tpsa, rotatable_bonds"
      ]
    },
    {
      "cell_type": "code",
      "execution_count": 18,
      "metadata": {},
      "outputs": [
        {
          "data": {
            "text/html": [
              "<div>\n",
              "<style scoped>\n",
              "    .dataframe tbody tr th:only-of-type {\n",
              "        vertical-align: middle;\n",
              "    }\n",
              "\n",
              "    .dataframe tbody tr th {\n",
              "        vertical-align: top;\n",
              "    }\n",
              "\n",
              "    .dataframe thead th {\n",
              "        text-align: right;\n",
              "    }\n",
              "</style>\n",
              "<table border=\"1\" class=\"dataframe\">\n",
              "  <thead>\n",
              "    <tr style=\"text-align: right;\">\n",
              "      <th></th>\n",
              "      <th>smiles</th>\n",
              "      <th>qed_score</th>\n",
              "      <th>tanimoto_similarity</th>\n",
              "      <th>min_sim</th>\n",
              "      <th>mw</th>\n",
              "      <th>logp</th>\n",
              "      <th>hba</th>\n",
              "      <th>hbd</th>\n",
              "      <th>tpsa</th>\n",
              "      <th>rotatable_bonds</th>\n",
              "    </tr>\n",
              "  </thead>\n",
              "  <tbody>\n",
              "    <tr>\n",
              "      <th>0</th>\n",
              "      <td>Cn1cc([C@@H]2OC(=O)C(C(=O)N3CCC4(CC=CS4(=O)=O)...</td>\n",
              "      <td>0.506378</td>\n",
              "      <td>0.099010</td>\n",
              "      <td>0.7</td>\n",
              "      <td>445.419</td>\n",
              "      <td>1.57030</td>\n",
              "      <td>7</td>\n",
              "      <td>0</td>\n",
              "      <td>98.57</td>\n",
              "      <td>2</td>\n",
              "    </tr>\n",
              "    <tr>\n",
              "      <th>1</th>\n",
              "      <td>N#CC1(C(=O)OCC2=CC[C@H]3C(=O)N(CC(F)(F)F)C(=O)...</td>\n",
              "      <td>0.550476</td>\n",
              "      <td>0.138298</td>\n",
              "      <td>0.7</td>\n",
              "      <td>382.338</td>\n",
              "      <td>2.41738</td>\n",
              "      <td>5</td>\n",
              "      <td>0</td>\n",
              "      <td>87.47</td>\n",
              "      <td>4</td>\n",
              "    </tr>\n",
              "    <tr>\n",
              "      <th>2</th>\n",
              "      <td>CS(=O)(=O)C1=Cc2cc3c(cc2=C1)[C@H](C(F)(F)F)C=CC=3</td>\n",
              "      <td>0.793142</td>\n",
              "      <td>0.096386</td>\n",
              "      <td>0.7</td>\n",
              "      <td>312.312</td>\n",
              "      <td>1.86240</td>\n",
              "      <td>2</td>\n",
              "      <td>0</td>\n",
              "      <td>34.14</td>\n",
              "      <td>1</td>\n",
              "    </tr>\n",
              "    <tr>\n",
              "      <th>3</th>\n",
              "      <td>CC(C)(C)OS(=O)(=O)N1C(=c2c(F)cn3c(=O)c(F)c(F)c...</td>\n",
              "      <td>0.547012</td>\n",
              "      <td>0.174419</td>\n",
              "      <td>0.7</td>\n",
              "      <td>424.347</td>\n",
              "      <td>2.06840</td>\n",
              "      <td>5</td>\n",
              "      <td>0</td>\n",
              "      <td>68.09</td>\n",
              "      <td>2</td>\n",
              "    </tr>\n",
              "    <tr>\n",
              "      <th>4</th>\n",
              "      <td>O=S(=O)(C1=CC2(C=C1)[C@@H](C(F)(F)F)C2(F)F)C1C...</td>\n",
              "      <td>0.543134</td>\n",
              "      <td>0.125000</td>\n",
              "      <td>0.7</td>\n",
              "      <td>356.356</td>\n",
              "      <td>4.39150</td>\n",
              "      <td>2</td>\n",
              "      <td>0</td>\n",
              "      <td>34.14</td>\n",
              "      <td>2</td>\n",
              "    </tr>\n",
              "    <tr>\n",
              "      <th>5</th>\n",
              "      <td>N#CC(=c1ccc(=C2C3=C(CCC3)CC[C@H]2C(F)(F)F)cc1)...</td>\n",
              "      <td>0.615145</td>\n",
              "      <td>0.119048</td>\n",
              "      <td>0.7</td>\n",
              "      <td>371.324</td>\n",
              "      <td>4.52668</td>\n",
              "      <td>1</td>\n",
              "      <td>0</td>\n",
              "      <td>23.79</td>\n",
              "      <td>0</td>\n",
              "    </tr>\n",
              "    <tr>\n",
              "      <th>6</th>\n",
              "      <td>O=C(O)[C@@H]1C(=C2C=CC=C2)C=CC12CC(C(F)(F)F)=C...</td>\n",
              "      <td>0.533206</td>\n",
              "      <td>0.128205</td>\n",
              "      <td>0.7</td>\n",
              "      <td>362.269</td>\n",
              "      <td>4.88100</td>\n",
              "      <td>1</td>\n",
              "      <td>1</td>\n",
              "      <td>37.30</td>\n",
              "      <td>1</td>\n",
              "    </tr>\n",
              "    <tr>\n",
              "      <th>7</th>\n",
              "      <td>C=CCN1C(C)=C(C(=O)C2=CC3=CC=C[C@H](C(F)(F)F)C3...</td>\n",
              "      <td>0.715601</td>\n",
              "      <td>0.072165</td>\n",
              "      <td>0.7</td>\n",
              "      <td>369.364</td>\n",
              "      <td>3.15950</td>\n",
              "      <td>3</td>\n",
              "      <td>0</td>\n",
              "      <td>54.45</td>\n",
              "      <td>4</td>\n",
              "    </tr>\n",
              "    <tr>\n",
              "      <th>8</th>\n",
              "      <td>C#CCCCS(=O)(=O)N1CCc2ccc(=O)c(C(F)(F)F)cc2CC1</td>\n",
              "      <td>0.600712</td>\n",
              "      <td>0.113636</td>\n",
              "      <td>0.7</td>\n",
              "      <td>373.396</td>\n",
              "      <td>2.20940</td>\n",
              "      <td>3</td>\n",
              "      <td>0</td>\n",
              "      <td>54.45</td>\n",
              "      <td>4</td>\n",
              "    </tr>\n",
              "    <tr>\n",
              "      <th>9</th>\n",
              "      <td>N#CC1=CC=C[C@H]2C1=C(C#N)[C@@H](c1ccc(S(=O)(=O...</td>\n",
              "      <td>0.590924</td>\n",
              "      <td>0.180723</td>\n",
              "      <td>0.7</td>\n",
              "      <td>410.348</td>\n",
              "      <td>3.75726</td>\n",
              "      <td>4</td>\n",
              "      <td>1</td>\n",
              "      <td>101.95</td>\n",
              "      <td>2</td>\n",
              "    </tr>\n",
              "  </tbody>\n",
              "</table>\n",
              "</div>"
            ],
            "text/plain": [
              "                                              smiles  qed_score  \\\n",
              "0  Cn1cc([C@@H]2OC(=O)C(C(=O)N3CCC4(CC=CS4(=O)=O)...   0.506378   \n",
              "1  N#CC1(C(=O)OCC2=CC[C@H]3C(=O)N(CC(F)(F)F)C(=O)...   0.550476   \n",
              "2  CS(=O)(=O)C1=Cc2cc3c(cc2=C1)[C@H](C(F)(F)F)C=CC=3   0.793142   \n",
              "3  CC(C)(C)OS(=O)(=O)N1C(=c2c(F)cn3c(=O)c(F)c(F)c...   0.547012   \n",
              "4  O=S(=O)(C1=CC2(C=C1)[C@@H](C(F)(F)F)C2(F)F)C1C...   0.543134   \n",
              "5  N#CC(=c1ccc(=C2C3=C(CCC3)CC[C@H]2C(F)(F)F)cc1)...   0.615145   \n",
              "6  O=C(O)[C@@H]1C(=C2C=CC=C2)C=CC12CC(C(F)(F)F)=C...   0.533206   \n",
              "7  C=CCN1C(C)=C(C(=O)C2=CC3=CC=C[C@H](C(F)(F)F)C3...   0.715601   \n",
              "8      C#CCCCS(=O)(=O)N1CCc2ccc(=O)c(C(F)(F)F)cc2CC1   0.600712   \n",
              "9  N#CC1=CC=C[C@H]2C1=C(C#N)[C@@H](c1ccc(S(=O)(=O...   0.590924   \n",
              "\n",
              "   tanimoto_similarity  min_sim       mw     logp  hba  hbd    tpsa  \\\n",
              "0             0.099010      0.7  445.419  1.57030    7    0   98.57   \n",
              "1             0.138298      0.7  382.338  2.41738    5    0   87.47   \n",
              "2             0.096386      0.7  312.312  1.86240    2    0   34.14   \n",
              "3             0.174419      0.7  424.347  2.06840    5    0   68.09   \n",
              "4             0.125000      0.7  356.356  4.39150    2    0   34.14   \n",
              "5             0.119048      0.7  371.324  4.52668    1    0   23.79   \n",
              "6             0.128205      0.7  362.269  4.88100    1    1   37.30   \n",
              "7             0.072165      0.7  369.364  3.15950    3    0   54.45   \n",
              "8             0.113636      0.7  373.396  2.20940    3    0   54.45   \n",
              "9             0.180723      0.7  410.348  3.75726    4    1  101.95   \n",
              "\n",
              "   rotatable_bonds  \n",
              "0                2  \n",
              "1                4  \n",
              "2                1  \n",
              "3                2  \n",
              "4                2  \n",
              "5                0  \n",
              "6                1  \n",
              "7                4  \n",
              "8                4  \n",
              "9                2  "
            ]
          },
          "metadata": {},
          "output_type": "display_data"
        },
        {
          "name": "stdout",
          "output_type": "stream",
          "text": [
            "CSV report saved as 'min_sim_results_report.csv'.\n"
          ]
        }
      ],
      "source": [
        "\n",
        "# Create a list to store the data for the report\n",
        "report_data = []\n",
        "\n",
        "for smiles in min_sim_results['smiles']:\n",
        "    mol = Chem.MolFromSmiles(smiles)\n",
        "    qed_score = qed(mol)\n",
        "    tanimoto = tanimoto_similarity(smiles, smis)\n",
        "\n",
        "    # Calculate Physical properties\n",
        "    physical = physical_properties(smiles)\n",
        "    if physical:\n",
        "        mw, logp, hba, hbd, tpsa, rotatable_bonds = physical\n",
        "    else:\n",
        "        mw, logp, hba, hbd, tpsa, rotatable_bonds = None, None, None, None, None, None\n",
        "\n",
        "    report_data.append({\n",
        "        'smiles': smiles,\n",
        "        'qed_score': qed_score,\n",
        "        'tanimoto_similarity': tanimoto,\n",
        "        'min_sim': min_sim,\n",
        "        'mw': mw,\n",
        "        'logp': logp,\n",
        "        'hba': hba,\n",
        "        'hbd': hbd,\n",
        "        'tpsa': tpsa,\n",
        "        'rotatable_bonds': rotatable_bonds\n",
        "    })\n",
        "\n",
        "# Create a pandas DataFrame from the report data\n",
        "report_df = pd.DataFrame(report_data)\n",
        "\n",
        "# Display the DataFrame\n",
        "display(report_df)\n",
        "\n",
        "# Save the DataFrame as a CSV file\n",
        "csv_filename = 'min_sim_results_report.csv'\n",
        "report_df.to_csv(csv_filename, index=False)\n",
        "print(f\"CSV report saved as '{csv_filename}'.\")\n",
        "\n",
        "\n"
      ]
    },
    {
      "cell_type": "code",
      "execution_count": 19,
      "metadata": {},
      "outputs": [],
      "source": [
        "#uncomment to freeze requirements\n",
        "!pip freeze > requirements.txt"
      ]
    },
    {
      "cell_type": "code",
      "execution_count": null,
      "metadata": {},
      "outputs": [],
      "source": []
    }
  ],
  "metadata": {
    "colab": {
      "provenance": []
    },
    "kernelspec": {
      "display_name": "Python 3",
      "name": "python3"
    },
    "language_info": {
      "codemirror_mode": {
        "name": "ipython",
        "version": 3
      },
      "file_extension": ".py",
      "mimetype": "text/x-python",
      "name": "python",
      "nbconvert_exporter": "python",
      "pygments_lexer": "ipython3",
      "version": "3.9.18"
    }
  },
  "nbformat": 4,
  "nbformat_minor": 0
}
